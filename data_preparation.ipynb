{
 "cells": [
  {
   "cell_type": "code",
   "execution_count": 1,
   "metadata": {},
   "outputs": [],
   "source": [
    "# import relevant modules\n",
    "import matplotlib.pyplot as plt\n",
    "import numpy as np\n",
    "import pandas as pd\n",
    "from netCDF4 import Dataset\n",
    "import datetime\n",
    "from datetime import date\n",
    "from datetime import timedelta\n",
    "import seaborn as sns"
   ]
  },
  {
   "attachments": {},
   "cell_type": "markdown",
   "metadata": {},
   "source": [
    "### Q1 ###\n",
    "\n",
    "For question one, we extract the runoff data from the location of the Tokuyama dam using bilinear interpolation methods in cdo.\n",
    "\n",
    "This is after the ERA5 data has been unzipped and combined into one file using cdo mergetime."
   ]
  },
  {
   "cell_type": "code",
   "execution_count": 13,
   "metadata": {
    "vscode": {
     "languageId": "shellscript"
    }
   },
   "outputs": [
    {
     "name": "stdout",
     "output_type": "stream",
     "text": [
      "Microsoft Windows [Version 10.0.22621.1413]\n",
      "(c) Microsoft Corporation. All rights reserved.\n",
      "\n",
      "c:\\Users\\Ben Hutchins\\OneDrive - University of Reading\\Documents\\GitHub\\MTMG50-Technical-Assignment>\n",
      "c:\\Users\\Ben Hutchins\\OneDrive - University of Reading\\Documents\\GitHub\\MTMG50-Technical-Assignment># write a simple script which print the loop number\n",
      "\n",
      "c:\\Users\\Ben Hutchins\\OneDrive - University of Reading\\Documents\\GitHub\\MTMG50-Technical-Assignment>for i in {1..10}; do\n",
      "\n",
      "c:\\Users\\Ben Hutchins\\OneDrive - University of Reading\\Documents\\GitHub\\MTMG50-Technical-Assignment>    echo $i\n",
      "$i\n",
      "\n",
      "c:\\Users\\Ben Hutchins\\OneDrive - University of Reading\\Documents\\GitHub\\MTMG50-Technical-Assignment>done\n",
      "\n",
      "c:\\Users\\Ben Hutchins\\OneDrive - University of Reading\\Documents\\GitHub\\MTMG50-Technical-Assignment>"
     ]
    },
    {
     "name": "stderr",
     "output_type": "stream",
     "text": [
      "'#' is not recognized as an internal or external command,\n",
      "operable program or batch file.\n",
      "'done' is not recognized as an internal or external command,\n",
      "operable program or batch file.\n"
     ]
    }
   ],
   "source": [
    "%%sh\n",
    "\n",
    "# remap using bilinear interpolation\n",
    "cdo remapbil,lon=136.47642/lat=35.63422 japan_ERA5land_20170601-20190801.nc japan_ERA5land_20170601-20190801_tokuyama.nc\n",
    "\n",
    "# take the day mean of the data \n",
    "cdo daymean japan_ERA5land_0801_tokuyama.nc tokuyama_daymean.nc"
   ]
  },
  {
   "attachments": {},
   "cell_type": "markdown",
   "metadata": {},
   "source": [
    "### Q3 ###\n",
    "\n",
    "To prepare the data for comparison in Q3, we have to convert the forecast runoff data (in kg m $^{-2}$ ) to the ERA5 units (m). We have to find the difference between time steps for each ensemble member in each file."
   ]
  },
  {
   "cell_type": "code",
   "execution_count": null,
   "metadata": {
    "vscode": {
     "languageId": "shellscript"
    }
   },
   "outputs": [],
   "source": [
    "%%sh\n",
    "\n",
    "# we want to loop over all of the PF files:\n",
    "for i in japan_ECMF_PF.????????.nc; do\n",
    "\n",
    "    # extract the date from the file name\n",
    "    date=$(echo $i | cut -d'.' -f2)\n",
    "\n",
    "    # initialise the for loop to loop over all of the ensemble members\n",
    "    for j in {1..50}; do\n",
    "\n",
    "        # extract the runoff data for the current ensemble member\n",
    "        cdo selname,ro -sellevel,$j $i japan_ECMF_PF.$date.$j.nc\n",
    "\n",
    "        # calculate the difference between the runoff at the current time step and the runoff at the previous time step within the file\n",
    "        cdo -b f64 deltat japan_ECMF_PF.$date.$j.nc japan_ECMF_PF.$date.$j.diff.nc\n",
    "\n",
    "        # remove the temporary files\n",
    "        rm japan_ECMF_PF.$date.$j.nc\n",
    "\n",
    "    done\n",
    "\n",
    "    # calculate the mean over all of the ensemble members\n",
    "    cdo ensmean japan_ECMF_PF.$date.*.diff.nc japan_ECMF_PF.$date.diff.nc\n",
    "\n",
    "    # remove the temporary files\n",
    "    rm japan_ECMF_PF.$date.*.diff.nc\n",
    "\n",
    "done\n",
    "\n",
    "# combine all of the PF diff files into one file\n",
    "cdo mergetime japan_ECMF_PF.*.diff.nc japan_ECMF_PF.diff.nc\n",
    "\n",
    "# select the study area\n",
    "cdo sellonlatbox,135,137,34,36 japan_ECMF_PF.diff.nc japan_ECMF_PF.diff.study_area.nc"
   ]
  },
  {
   "attachments": {},
   "cell_type": "markdown",
   "metadata": {},
   "source": [
    "This data contains overlaps, so we will use xarray tools to deal with these.\n",
    "\n",
    "Where there are multiple values for one day (from overlapping forecast dates), we will take the average of these values to get one value per day."
   ]
  },
  {
   "cell_type": "code",
   "execution_count": null,
   "metadata": {},
   "outputs": [],
   "source": [
    "%%python3\n",
    "\n",
    "# define a function which will import and process the S2S data\n",
    "def S2S_data(filename):\n",
    "    \"\"\"Load the data from a NetCDF file, converts the units and removes negative values. Also groups the data by the time coordinate and takes the mean.\"\"\"\n",
    "\n",
    "    # load the data\n",
    "    data = xr.open_dataset(filename)\n",
    "\n",
    "    # replace all values less than 0 with 0\n",
    "    data['ro'] = data['ro'].where(data['ro'] > 0, 0)\n",
    "\n",
    "    # convert the runoff to the same units as the ERA5 data\n",
    "    # we will do this by dividing by 1000\n",
    "    data['ro'] = data['ro']/1000\n",
    "\n",
    "    # group the data by the time coordinate and take the mean\n",
    "    averaged_data = data.groupby('time').mean(dim='time')\n",
    "\n",
    "    # save the averaged data to a new NetCDF file\n",
    "    averaged_data.to_netcdf(filename[:-3] + '_overlap_mean.nc')\n",
    "\n",
    "# call the function\n",
    "S2S_data(r'japan_ECMF_PF.diff.study_area.nc')\n"
   ]
  },
  {
   "attachments": {},
   "cell_type": "markdown",
   "metadata": {},
   "source": [
    "For the statistical comparison in Q3, we also have to downscale the ERA5 data to a more coarse resolution and then select our gridbox which we average over."
   ]
  },
  {
   "cell_type": "code",
   "execution_count": null,
   "metadata": {
    "vscode": {
     "languageId": "shellscript"
    }
   },
   "outputs": [],
   "source": [
    "%%sh\n",
    "\n",
    "# regridding ERA5 data to the same grid as the ECMWF S2S data\n",
    "cdo remapbil,japan_ECMF_PF.20190627.nc \"/home/users/benhutch/MTMG50/MTMG50-Technical-Assignment/japan_ERA5land_20170601-20190801.nc\" \"/home/users/benhutch/MTMG50/S2S/ecmwf/japan_ERA5land_20170601-20190801_coarse.nc\"\n",
    "\n",
    "# subset the coasre ERA5 data to the same domain as the ECMWF S2S data\n",
    "cdo sellonlatbox,135,137,34,36 japan_ERA5land_20170601-20190801_coarse.nc japan_ERA5land_20170601-20190801_coarse_subset.nc"
   ]
  },
  {
   "attachments": {},
   "cell_type": "markdown",
   "metadata": {},
   "source": [
    "For the statistical comparison of the uncalibrated data in Q3, we will use seaborn to plot the PDFs, means, and standard deviation values to compare the two datasets."
   ]
  },
  {
   "cell_type": "code",
   "execution_count": 32,
   "metadata": {},
   "outputs": [
    {
     "name": "stderr",
     "output_type": "stream",
     "text": [
      "c:\\ProgramData\\anaconda3\\lib\\site-packages\\seaborn\\distributions.py:2619: FutureWarning: `distplot` is a deprecated function and will be removed in a future version. Please adapt your code to use either `displot` (a figure-level function with similar flexibility) or `histplot` (an axes-level function for histograms).\n",
      "  warnings.warn(msg, FutureWarning)\n",
      "c:\\ProgramData\\anaconda3\\lib\\site-packages\\seaborn\\distributions.py:2619: FutureWarning: `distplot` is a deprecated function and will be removed in a future version. Please adapt your code to use either `displot` (a figure-level function with similar flexibility) or `histplot` (an axes-level function for histograms).\n",
      "  warnings.warn(msg, FutureWarning)\n"
     ]
    },
    {
     "data": {
      "image/png": "[encoded data removed]",
      "text/plain": [
       "<Figure size 640x480 with 1 Axes>"
      ]
     },
     "metadata": {},
     "output_type": "display_data"
    }
   ],
   "source": [
    "import xarray as xr\n",
    "import matplotlib.pyplot as plt\n",
    "import seaborn as sns\n",
    "import numpy as np\n",
    "\n",
    "# define the paths to the data\n",
    "uncal_S2S = r'C:\\Users\\Ben Hutchins\\OneDrive - University of Reading\\Documents\\GitHub\\MTMG50-Technical-Assignment\\japan_ECMF_PF.diff.study_area_overlap_mean.nc'\n",
    "era5_grid = r'C:\\Users\\Ben Hutchins\\OneDrive - University of Reading\\Documents\\GitHub\\MTMG50-Technical-Assignment\\japan_ERA5land_20170601-20190801_coarse_subset.nc'\n",
    "\n",
    "title = 'Probability density functions of S2S uncalibrated and ERA5 runoff'\n",
    "fig_name = 'PDFs_S2S_uncalibrated_ERA5.png'\n",
    "\n",
    "# define a function to import the data\n",
    "# and plot the probability density functions/histograms\n",
    "def plot_PDFs(S2S, ERA5, title, fig_name):\n",
    "    \"\"\"Load the data from the NetCDF files and plot the probability density functions/histograms on the same plot.\"\"\"\n",
    "\n",
    "    # load the data\n",
    "    data = xr.open_dataset(S2S)\n",
    "    era5 = xr.open_dataset(ERA5)\n",
    "\n",
    "    # plot the two distributions on the same plot\n",
    "    sns.distplot(data['ro'].values.flatten(), label='S2S uncalibrated', color = 'red')\n",
    "    sns.distplot(era5['ro'].values.flatten(), label='ERA5', color = 'blue')\n",
    "\n",
    "    # plot the means as vertical lines\n",
    "    plt.axvline(data['ro'].values.flatten().mean(), color='red', linestyle='dashed', linewidth=1)\n",
    "    plt.axvline(era5['ro'].mean(), color='blue', linestyle='dashed', linewidth=1)\n",
    "\n",
    "    # include the standard deviations\n",
    "\n",
    "    # S2S\n",
    "    plt.axvline(data['ro'].values.flatten().mean() + data['ro'].values.flatten().std(), color='red', linestyle='-.', linewidth=1)\n",
    "    plt.axvline(data['ro'].values.flatten().mean() - data['ro'].values.flatten().std(), color='red', linestyle='-.', linewidth=1)\n",
    "\n",
    "    # ERA5\n",
    "    plt.axvline(era5['ro'].mean() + era5['ro'].std(), color='blue', linestyle='-.', linewidth=1)\n",
    "    plt.axvline(era5['ro'].mean() - era5['ro'].std(), color='blue', linestyle='-.', linewidth=1)\n",
    "\n",
    "    # constrain the x axis\n",
    "    plt.xlim(-0.01, 0.015)\n",
    "    # set the x axis label\n",
    "    plt.xlabel('Runoff (m)')\n",
    "\n",
    "    # add a legend\n",
    "    plt.legend()\n",
    "\n",
    "    # add a title\n",
    "    plt.title(title)\n",
    "\n",
    "    # save the figure in the plots folder\n",
    "    plt.savefig(r'plots\\.format(fig_name)', dpi=300)\n",
    "\n",
    "# call the function with the uncalibrated S2S data\n",
    "plot_PDFs(uncal_S2S, era5_grid, title, fig_name)"
   ]
  }
 ],
 "metadata": {
  "kernelspec": {
   "display_name": "base",
   "language": "python",
   "name": "python3"
  },
  "language_info": {
   "codemirror_mode": {
    "name": "ipython",
    "version": 3
   },
   "file_extension": ".py",
   "mimetype": "text/x-python",
   "name": "python",
   "nbconvert_exporter": "python",
   "pygments_lexer": "ipython3",
   "version": "3.9.13"
  },
  "orig_nbformat": 4
 },
 "nbformat": 4,
 "nbformat_minor": 2
}
